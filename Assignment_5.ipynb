{
 "cells": [
  {
   "cell_type": "code",
   "execution_count": 1,
   "id": "35103407-5485-47c9-a4a3-10c545c64f58",
   "metadata": {},
   "outputs": [
    {
     "data": {
      "text/plain": [
       "'Q1'"
      ]
     },
     "execution_count": 1,
     "metadata": {},
     "output_type": "execute_result"
    }
   ],
   "source": [
    "'''Q1'''"
   ]
  },
  {
   "cell_type": "code",
   "execution_count": null,
   "id": "12cb0129-c4f0-4da1-9e86-d7703575b68c",
   "metadata": {},
   "outputs": [],
   "source": [
    "import math\n",
    "\n",
    " \n",
    "\n",
    "for i in range(1,11):\n",
    "\n",
    "    print(i, end= \"  \")"
   ]
  },
  {
   "cell_type": "code",
   "execution_count": null,
   "id": "8f2d45f0-7bec-45b1-8a05-baaf18ff130b",
   "metadata": {},
   "outputs": [],
   "source": [
    "'''Q2'''"
   ]
  },
  {
   "cell_type": "code",
   "execution_count": null,
   "id": "341c63a5-2a71-441e-8b69-7bb85934fb4b",
   "metadata": {},
   "outputs": [],
   "source": []
  },
  {
   "cell_type": "code",
   "execution_count": null,
   "id": "410bab9a-9672-4df4-8de2-f13034300fcb",
   "metadata": {},
   "outputs": [],
   "source": [
    "'''Q3'''"
   ]
  },
  {
   "cell_type": "code",
   "execution_count": null,
   "id": "d4cf4942-00ca-406f-94eb-b003ad4d0045",
   "metadata": {},
   "outputs": [],
   "source": [
    "\n",
    "\n",
    "sum = 0\n",
    "\n",
    "\n",
    "\n",
    "for i in range(1,101):\n",
    "\n",
    "    sum += i\n",
    "\n",
    "\n",
    "\n",
    "print(sum)"
   ]
  },
  {
   "cell_type": "code",
   "execution_count": null,
   "id": "6ebbd478-6f8b-4b31-9e10-255b70b1742e",
   "metadata": {},
   "outputs": [],
   "source": [
    "'''Q4'''"
   ]
  },
  {
   "cell_type": "code",
   "execution_count": null,
   "id": "719c77f7-b72d-4ed9-a494-783d46b68583",
   "metadata": {},
   "outputs": [],
   "source": []
  },
  {
   "cell_type": "code",
   "execution_count": null,
   "id": "21e1ea93-4e46-4532-9bd2-b53bb8105314",
   "metadata": {},
   "outputs": [],
   "source": [
    "'''Q5'''"
   ]
  },
  {
   "cell_type": "code",
   "execution_count": null,
   "id": "3315eed5-32fc-458c-a5ea-ac5fc0972312",
   "metadata": {},
   "outputs": [],
   "source": [
    "l = [1,2,3,4,5,6,7,8,9]\n",
    "\n",
    "prod = 1\n",
    "\n",
    "\n",
    "\n",
    "for i in l:\n",
    "\n",
    "    prod *= i\n",
    "\n",
    "\n",
    "\n",
    "print(prod)"
   ]
  },
  {
   "cell_type": "code",
   "execution_count": null,
   "id": "7732b096-35f1-43ac-9f34-d5ea0003d8c2",
   "metadata": {},
   "outputs": [],
   "source": [
    "'''Q6'''"
   ]
  },
  {
   "cell_type": "code",
   "execution_count": null,
   "id": "9682115a-0008-4198-bcc3-c9787932b549",
   "metadata": {},
   "outputs": [],
   "source": [
    "for i in range(2,21,2):\n",
    "\n",
    "    print(i, end= \"  \")"
   ]
  },
  {
   "cell_type": "code",
   "execution_count": null,
   "id": "896f0cb1-4f4b-4a45-8815-d9e1d3368351",
   "metadata": {},
   "outputs": [],
   "source": [
    "'''Q7'''"
   ]
  },
  {
   "cell_type": "code",
   "execution_count": null,
   "id": "4bff3c98-a251-488f-b818-a7b998dcddea",
   "metadata": {},
   "outputs": [],
   "source": []
  },
  {
   "cell_type": "code",
   "execution_count": null,
   "id": "65c2d9b9-04d0-4853-bcb4-fe522f72f930",
   "metadata": {},
   "outputs": [],
   "source": [
    "'''Q8'''"
   ]
  },
  {
   "cell_type": "code",
   "execution_count": null,
   "id": "179ab0b3-e0c0-433b-9dcf-f997051fcb9c",
   "metadata": {},
   "outputs": [],
   "source": []
  },
  {
   "cell_type": "code",
   "execution_count": null,
   "id": "ab43c8b4-ef90-4ea2-a55c-955d551e17a4",
   "metadata": {},
   "outputs": [],
   "source": [
    "'''Q9'''"
   ]
  },
  {
   "cell_type": "code",
   "execution_count": null,
   "id": "adec6171-7a34-4186-a4f6-52cf3ac44cdd",
   "metadata": {},
   "outputs": [],
   "source": [
    "l = [37,239,37,9,246, 2,27,723,478]\n",
    "\n",
    "max = -999999\n",
    "\n",
    "\n",
    "\n",
    "for i in l:\n",
    "\n",
    "    if(i > max):\n",
    "\n",
    "        max = i\n",
    "\n",
    "\n",
    "\n",
    "print(max)"
   ]
  },
  {
   "cell_type": "code",
   "execution_count": null,
   "id": "0d136ef7-6135-4a39-af97-6fb76dcbcf5e",
   "metadata": {},
   "outputs": [],
   "source": [
    "'''Q10'''"
   ]
  },
  {
   "cell_type": "code",
   "execution_count": null,
   "id": "fa3644ef-b6e1-41a2-b4e4-6a5fd7e1fe99",
   "metadata": {},
   "outputs": [],
   "source": [
    "\n",
    "\n",
    "n = 10\n",
    "\n",
    "num1 = 0\n",
    "\n",
    "num2 = 1\n",
    "\n",
    "next_number = num2\n",
    "\n",
    "count = 1\n",
    "\n",
    "\n",
    "\n",
    "while count <= n:\n",
    "\n",
    "            print(num1, end=\" \")\n",
    "\n",
    "            count += 1\n",
    "\n",
    "            num1, num2 = num2, next_number\n",
    "\n",
    "            next_number = num1 + num2\n",
    "\n",
    "print()"
   ]
  },
  {
   "cell_type": "code",
   "execution_count": null,
   "id": "1fc24251-1541-4803-83f7-17609d47f510",
   "metadata": {},
   "outputs": [],
   "source": [
    "'''Q11'''"
   ]
  },
  {
   "cell_type": "code",
   "execution_count": null,
   "id": "13ae3f35-d21d-4e8e-a479-f589303aca31",
   "metadata": {},
   "outputs": [],
   "source": [
    "\n",
    "\n",
    "s = \"Hello, This is my String. Please find the number of vowels in it.\"\n",
    "\n",
    "count = 0\n",
    "\n",
    "\n",
    "\n",
    "for ch in s:\n",
    "\n",
    "    if ch.lower() in ('a','e','i','o','u'):\n",
    "\n",
    "        count += 1\n",
    "\n",
    "\n",
    "\n",
    "print(count)"
   ]
  },
  {
   "cell_type": "code",
   "execution_count": null,
   "id": "54be9b08-2624-4589-ba55-39c24adc3b01",
   "metadata": {},
   "outputs": [],
   "source": [
    "'''Q12'''"
   ]
  },
  {
   "cell_type": "code",
   "execution_count": null,
   "id": "578d63d1-5c1f-4433-b685-2cb45408e292",
   "metadata": {},
   "outputs": [],
   "source": [
    "\n",
    "\n",
    "# Multiplication table (from 1 to 10) in Python\n",
    "\n",
    "\n",
    "\n",
    "num = 12\n",
    "\n",
    "\n",
    "\n",
    "# To take input from the user\n",
    "\n",
    "# num = int(input(\"Display multiplication table of? \"))\n",
    "\n",
    "\n",
    "\n",
    "# Iterate 10 times from i = 1 to 10\n",
    "\n",
    "for i in range(1, 11):\n",
    "\n",
    "   print(num, 'x', i, '=', num*i)"
   ]
  },
  {
   "cell_type": "code",
   "execution_count": null,
   "id": "1ece5ce3-6776-45e7-8479-61d070d8958c",
   "metadata": {},
   "outputs": [],
   "source": [
    "'''Q13'''"
   ]
  },
  {
   "cell_type": "code",
   "execution_count": null,
   "id": "d283169a-72bf-4d57-9187-cbc36698d7b4",
   "metadata": {},
   "outputs": [],
   "source": [
    "\n",
    "\n",
    "l = [1,2,3,4,5,6,7,8,9]\n",
    "\n",
    "new_list = []\n",
    "\n",
    "\n",
    "\n",
    "for i in range(len(l) - 1, -1, -1):\n",
    "\n",
    "    new_list.append(l[i])\n",
    "\n",
    "# for i in l[::-1]:\n",
    "\n",
    "#     new_list.append(i)\n",
    "\n",
    "\n",
    "\n",
    "print(new_list)"
   ]
  },
  {
   "cell_type": "code",
   "execution_count": null,
   "id": "8dfa56b5-ee66-417f-8384-2be2ea58b134",
   "metadata": {},
   "outputs": [],
   "source": [
    "'''Q14'''"
   ]
  },
  {
   "cell_type": "code",
   "execution_count": null,
   "id": "ba29590d-9108-48f6-a2b1-a65ea476dc64",
   "metadata": {},
   "outputs": [],
   "source": [
    "\n",
    "\n",
    "# Python program to find the common elements\n",
    "\n",
    "# in two lists\n",
    "\n",
    "def common_member(a, b):\n",
    "\n",
    "    a_set = set(a)\n",
    "\n",
    "    b_set = set(b)\n",
    "\n",
    "\n",
    "\n",
    "    if (a_set & b_set):\n",
    "\n",
    "        print(a_set & b_set)\n",
    "\n",
    "    else:\n",
    "\n",
    "        print(\"No common elements\")\n",
    "\n",
    "\n",
    "\n",
    "\n",
    "\n",
    "a = [1, 2, 3, 4, 5]\n",
    "\n",
    "b = [5, 6, 7, 8, 9]\n",
    "\n",
    "common_member(a, b)\n",
    "\n",
    "\n",
    "\n",
    "a = [1, 2, 3, 4, 5]\n",
    "\n",
    "b = [6, 7, 8, 9]\n",
    "\n",
    "common_member(a, b)"
   ]
  },
  {
   "cell_type": "code",
   "execution_count": null,
   "id": "25b11111-b583-479c-81b4-20f807a73f28",
   "metadata": {},
   "outputs": [],
   "source": [
    "'''Q15'''"
   ]
  },
  {
   "cell_type": "code",
   "execution_count": null,
   "id": "ac85512f-7f12-4e0f-af19-307f2a4f2def",
   "metadata": {},
   "outputs": [],
   "source": []
  },
  {
   "cell_type": "code",
   "execution_count": null,
   "id": "698e0492-c12d-472c-8b87-69da8f3b3bfb",
   "metadata": {},
   "outputs": [],
   "source": [
    "'''Q16'''"
   ]
  },
  {
   "cell_type": "code",
   "execution_count": null,
   "id": "0f339220-5197-43c4-acb3-2208da969e70",
   "metadata": {},
   "outputs": [],
   "source": []
  },
  {
   "cell_type": "code",
   "execution_count": null,
   "id": "8369d00e-b19d-47e1-b503-93e768b322f8",
   "metadata": {},
   "outputs": [],
   "source": [
    "'''Q17'''"
   ]
  },
  {
   "cell_type": "code",
   "execution_count": null,
   "id": "a96223f2-c9d6-4dd0-a82d-d2afcbfc9f58",
   "metadata": {},
   "outputs": [],
   "source": [
    "\n",
    "\n",
    "s = \"naman\"\n",
    "\n",
    "mid = int(len(s)/2)\n",
    "\n",
    "flag =True\n",
    "\n",
    "\n",
    "\n",
    "for i in range(0, mid):\n",
    "\n",
    "    if(s[i] != s[len(s)-1-i]):\n",
    "\n",
    "        flag = False\n",
    "\n",
    "\n",
    "\n",
    "if flag:\n",
    "\n",
    "    print(\"Palindrome\")\n",
    "\n",
    "else:\n",
    "\n",
    "    print(\"Not a Palindrome\")"
   ]
  },
  {
   "cell_type": "code",
   "execution_count": null,
   "id": "0bdf3acb-e54f-4555-8016-47b536c6dabf",
   "metadata": {},
   "outputs": [],
   "source": [
    "'''Q18'''"
   ]
  },
  {
   "cell_type": "code",
   "execution_count": null,
   "id": "b0e2c05b-6137-4568-b30a-06f975fd24a1",
   "metadata": {},
   "outputs": [],
   "source": [
    "\n",
    "\n",
    "# Python code to remove duplicate elements\n",
    "\n",
    "def Remove(duplicate):\n",
    "\n",
    "    final_list = []\n",
    "\n",
    "    for num in duplicate:\n",
    "\n",
    "        if num not in final_list:\n",
    "\n",
    "            final_list.append(num)\n",
    "\n",
    "    return final_list\n",
    "\n",
    "\n",
    "\n",
    "\n",
    "\n",
    "# Driver Code\n",
    "\n",
    "duplicate = [2, 4, 10, 20, 5, 2, 20, 4]\n",
    "\n",
    "print(Remove(duplicate))"
   ]
  },
  {
   "cell_type": "code",
   "execution_count": null,
   "id": "b4db1f7c-4ad4-4573-a69e-f77377ac0eb2",
   "metadata": {},
   "outputs": [],
   "source": [
    "'''Q19'''"
   ]
  },
  {
   "cell_type": "code",
   "execution_count": null,
   "id": "57447328-0f15-4801-a1f4-c9f8165db9db",
   "metadata": {},
   "outputs": [],
   "source": [
    "s = \"Hello, This is my String. Please count the words in it and tell me. Thank You\"\n",
    "\n",
    "count = 1\n",
    "\n",
    "\n",
    "\n",
    "for ch in s:\n",
    "\n",
    "    if ch == \" \":\n",
    "\n",
    "        count += 1\n",
    "\n",
    "\n",
    "\n",
    "print(count)"
   ]
  },
  {
   "cell_type": "code",
   "execution_count": null,
   "id": "f83b2476-cb65-4bd7-8765-75157ede28db",
   "metadata": {},
   "outputs": [],
   "source": [
    "'''Q20'''"
   ]
  },
  {
   "cell_type": "code",
   "execution_count": null,
   "id": "c6ac567d-784c-4c19-95e8-899bd329c5c6",
   "metadata": {},
   "outputs": [],
   "source": [
    "\n",
    "\n",
    "sum = 0\n",
    "\n",
    "\n",
    "\n",
    "for i in range(1,50,2):\n",
    "\n",
    "    sum += i\n",
    "\n",
    "\n",
    "\n",
    "print(sum)"
   ]
  },
  {
   "cell_type": "code",
   "execution_count": null,
   "id": "cb86a80b-ae37-4ff5-a5a3-e23815769291",
   "metadata": {},
   "outputs": [],
   "source": [
    "'''Q21'''"
   ]
  },
  {
   "cell_type": "code",
   "execution_count": null,
   "id": "1cfeb5e7-f7b0-4872-9599-15964d41cdff",
   "metadata": {},
   "outputs": [],
   "source": []
  },
  {
   "cell_type": "code",
   "execution_count": null,
   "id": "e9d7083b-8a53-48f8-9c8d-39db1a053c62",
   "metadata": {},
   "outputs": [],
   "source": [
    "'''Q22'''"
   ]
  },
  {
   "cell_type": "code",
   "execution_count": null,
   "id": "6c2820fb-7078-4cca-b211-fcc5903ab6e0",
   "metadata": {},
   "outputs": [],
   "source": [
    "\n",
    "\n",
    "# Python3 program to find floor(sqrt(x)\n",
    "\n",
    "\n",
    "\n",
    "# Returns floor of square root of x\n",
    "\n",
    "\n",
    "\n",
    "\n",
    "\n",
    "def floorSqrt(x):\n",
    "\n",
    "\n",
    "\n",
    "            # Base cases\n",
    "\n",
    "            if (x == 0 or x == 1):\n",
    "\n",
    "                            return x\n",
    "\n",
    "\n",
    "\n",
    "            # Starting from 1, try all numbers until\n",
    "\n",
    "            # i*i is greater than or equal to x.\n",
    "\n",
    "            i = 1\n",
    "\n",
    "            result = 1\n",
    "\n",
    "            while (result <= x):\n",
    "\n",
    "\n",
    "\n",
    "                            i += 1\n",
    "\n",
    "                            result = i * i\n",
    "\n",
    "\n",
    "\n",
    "            return i - 1\n",
    "\n",
    "\n",
    "\n",
    "\n",
    "\n",
    "# Driver Code\n",
    "\n",
    "x = 11\n",
    "\n",
    "print(floorSqrt(x))"
   ]
  },
  {
   "cell_type": "code",
   "execution_count": null,
   "id": "e336d474-7e82-4d6b-bd71-a39de596267b",
   "metadata": {},
   "outputs": [],
   "source": [
    "'''Q23'''"
   ]
  },
  {
   "cell_type": "code",
   "execution_count": null,
   "id": "a0d0d597-95c1-435f-922a-9ec78a0db0cd",
   "metadata": {},
   "outputs": [],
   "source": [
    "\n",
    "\n",
    "a = 23\n",
    "\n",
    "b = 29\n",
    "\n",
    "lcm = max(a,b)\n",
    "\n",
    "\n",
    "\n",
    "for i in range(1, min(a,b)+1):\n",
    "\n",
    "    if(lcm % a) == 0 and (lcm % b) == 0:\n",
    "\n",
    "        break\n",
    "\n",
    "\n",
    "\n",
    "    lcm = max(a,b) * i\n",
    "\n",
    "\n",
    "\n",
    "print(lcm)"
   ]
  },
  {
   "cell_type": "code",
   "execution_count": null,
   "id": "927dee86-d44f-4982-bd47-d66ff3759f5c",
   "metadata": {},
   "outputs": [],
   "source": []
  },
  {
   "cell_type": "code",
   "execution_count": null,
   "id": "9eb34272-4fe7-4f0c-8cdd-21bc006b8394",
   "metadata": {},
   "outputs": [],
   "source": []
  },
  {
   "cell_type": "code",
   "execution_count": null,
   "id": "dfa9223f-e9b1-4aa7-90dc-cdc30eda64b4",
   "metadata": {},
   "outputs": [],
   "source": []
  },
  {
   "cell_type": "code",
   "execution_count": null,
   "id": "4c24ff8a-154c-4abe-b63d-22fb134f73ba",
   "metadata": {},
   "outputs": [],
   "source": [
    "'''Q1'''"
   ]
  },
  {
   "cell_type": "code",
   "execution_count": null,
   "id": "636ac7e0-1ba7-4a73-ac55-9ee29b29d1ee",
   "metadata": {},
   "outputs": [],
   "source": []
  },
  {
   "cell_type": "code",
   "execution_count": null,
   "id": "ae1ad347-3dff-49f8-9fe7-0e3449f4d360",
   "metadata": {},
   "outputs": [],
   "source": [
    "'''Q2'''"
   ]
  },
  {
   "cell_type": "code",
   "execution_count": null,
   "id": "213588e4-9cce-4806-a820-67916bbce774",
   "metadata": {},
   "outputs": [],
   "source": []
  },
  {
   "cell_type": "code",
   "execution_count": null,
   "id": "b6a82852-718c-404f-ba7b-1bcf4b24162b",
   "metadata": {},
   "outputs": [],
   "source": [
    "'''Q3'''"
   ]
  },
  {
   "cell_type": "code",
   "execution_count": null,
   "id": "2b5284ec-c63f-4f2f-af70-72f76373184c",
   "metadata": {},
   "outputs": [],
   "source": []
  },
  {
   "cell_type": "code",
   "execution_count": null,
   "id": "3cdbb8d1-a6a5-447b-b6c6-f94691afe9f8",
   "metadata": {},
   "outputs": [],
   "source": [
    "'''Q4'''"
   ]
  },
  {
   "cell_type": "code",
   "execution_count": null,
   "id": "c7c4dacc-3ba1-45ed-9806-4cd3687ddf1c",
   "metadata": {},
   "outputs": [],
   "source": []
  },
  {
   "cell_type": "code",
   "execution_count": null,
   "id": "b02da9c3-8702-4d66-9d48-855bbdac83ae",
   "metadata": {},
   "outputs": [],
   "source": [
    "'''Q5'''"
   ]
  },
  {
   "cell_type": "code",
   "execution_count": null,
   "id": "5960f8e2-7f19-483b-8504-0543fe618d92",
   "metadata": {},
   "outputs": [],
   "source": []
  },
  {
   "cell_type": "code",
   "execution_count": null,
   "id": "f3053247-4efc-4e0d-a135-6215d7ded690",
   "metadata": {},
   "outputs": [],
   "source": [
    "'''Q6'''"
   ]
  },
  {
   "cell_type": "code",
   "execution_count": null,
   "id": "026a414f-f55b-4b10-b8e4-672177e26c8c",
   "metadata": {},
   "outputs": [],
   "source": []
  },
  {
   "cell_type": "code",
   "execution_count": null,
   "id": "7b3afa7f-807c-4514-92e3-1ccf36d0d910",
   "metadata": {},
   "outputs": [],
   "source": [
    "'''Q7'''"
   ]
  },
  {
   "cell_type": "code",
   "execution_count": null,
   "id": "fe51853a-c743-45fc-b3f2-49fdc1f48b66",
   "metadata": {},
   "outputs": [],
   "source": []
  },
  {
   "cell_type": "code",
   "execution_count": null,
   "id": "f4729b2f-7a21-4ca8-b96b-62356deae54b",
   "metadata": {},
   "outputs": [],
   "source": [
    "'''Q8'''"
   ]
  },
  {
   "cell_type": "code",
   "execution_count": null,
   "id": "1d150245-acc7-4055-babd-b659f714aa03",
   "metadata": {},
   "outputs": [],
   "source": []
  },
  {
   "cell_type": "code",
   "execution_count": null,
   "id": "421857e0-1275-42a7-b7b5-fc3fa410d4a7",
   "metadata": {},
   "outputs": [],
   "source": [
    "'''Q9'''"
   ]
  },
  {
   "cell_type": "code",
   "execution_count": null,
   "id": "a48305c5-6834-47f1-854c-0172aed53b32",
   "metadata": {},
   "outputs": [],
   "source": []
  },
  {
   "cell_type": "code",
   "execution_count": null,
   "id": "1dc6e179-9f23-4074-b861-89e67fad4942",
   "metadata": {},
   "outputs": [],
   "source": [
    "'''Q10'''"
   ]
  },
  {
   "cell_type": "code",
   "execution_count": null,
   "id": "5caf4751-43ef-4c00-970e-b3685a3c0250",
   "metadata": {},
   "outputs": [],
   "source": []
  },
  {
   "cell_type": "code",
   "execution_count": null,
   "id": "a1676a4a-cc12-4323-92e8-3e51762bacd0",
   "metadata": {},
   "outputs": [],
   "source": [
    "'''Q11'''"
   ]
  },
  {
   "cell_type": "code",
   "execution_count": null,
   "id": "ff6ca2e3-c7c9-4c19-80fe-325b99092f26",
   "metadata": {},
   "outputs": [],
   "source": []
  },
  {
   "cell_type": "code",
   "execution_count": null,
   "id": "52df88c1-ddd6-45c5-9638-324ca4c6d3e8",
   "metadata": {},
   "outputs": [],
   "source": [
    "'''Q12'''"
   ]
  },
  {
   "cell_type": "code",
   "execution_count": null,
   "id": "d70c5cea-e9d4-4db3-8637-f390e51225c9",
   "metadata": {},
   "outputs": [],
   "source": []
  },
  {
   "cell_type": "code",
   "execution_count": null,
   "id": "8f95443c-7044-4d8f-ae7e-0e482f34fba2",
   "metadata": {},
   "outputs": [],
   "source": [
    "'''Q13'''"
   ]
  },
  {
   "cell_type": "code",
   "execution_count": null,
   "id": "4f63ed91-befe-43af-9e31-5be77a6a6a85",
   "metadata": {},
   "outputs": [],
   "source": []
  },
  {
   "cell_type": "code",
   "execution_count": null,
   "id": "9d79527e-e9da-43f3-a6f8-ec1fd0c43ef2",
   "metadata": {},
   "outputs": [],
   "source": [
    "'''Q14'''"
   ]
  },
  {
   "cell_type": "code",
   "execution_count": null,
   "id": "97cb9ae5-c2de-429c-8d35-a3022be37aa9",
   "metadata": {},
   "outputs": [],
   "source": []
  },
  {
   "cell_type": "code",
   "execution_count": null,
   "id": "66afa5c2-1cb0-4a33-987d-dbfc77d34b43",
   "metadata": {},
   "outputs": [],
   "source": [
    "'''Q15'''"
   ]
  },
  {
   "cell_type": "code",
   "execution_count": null,
   "id": "778d4445-f895-417a-8d54-fee98c1ebcd0",
   "metadata": {},
   "outputs": [],
   "source": []
  },
  {
   "cell_type": "code",
   "execution_count": null,
   "id": "8e77921b-86b4-4b52-8667-487ab1245fa0",
   "metadata": {},
   "outputs": [],
   "source": [
    "'''Q16'''"
   ]
  },
  {
   "cell_type": "code",
   "execution_count": null,
   "id": "37c02596-6e4c-4b27-b3fa-e076dbbbc1b0",
   "metadata": {},
   "outputs": [],
   "source": []
  },
  {
   "cell_type": "code",
   "execution_count": null,
   "id": "6205ecad-6f9a-4f3e-ae59-357b29d9b7c3",
   "metadata": {},
   "outputs": [],
   "source": [
    "'''Q17'''"
   ]
  },
  {
   "cell_type": "code",
   "execution_count": null,
   "id": "904c51ed-5e6c-447c-a95c-20cfb56ab360",
   "metadata": {},
   "outputs": [],
   "source": []
  },
  {
   "cell_type": "code",
   "execution_count": null,
   "id": "7b4137b2-c365-4895-8bff-7d05ddafe99f",
   "metadata": {},
   "outputs": [],
   "source": [
    "'''Q18'''"
   ]
  },
  {
   "cell_type": "code",
   "execution_count": null,
   "id": "1c297113-15ce-4dff-ad63-e8781e93774c",
   "metadata": {},
   "outputs": [],
   "source": []
  },
  {
   "cell_type": "code",
   "execution_count": null,
   "id": "2e402c6d-6edd-48ce-8059-14f195ccf5a2",
   "metadata": {},
   "outputs": [],
   "source": [
    "'''Q19'''"
   ]
  },
  {
   "cell_type": "code",
   "execution_count": null,
   "id": "060cc62d-1a39-4a55-8a3d-dc5eab6a2095",
   "metadata": {},
   "outputs": [],
   "source": []
  },
  {
   "cell_type": "code",
   "execution_count": null,
   "id": "b9045148-a002-45b9-82d7-9c95d63623ca",
   "metadata": {},
   "outputs": [],
   "source": [
    "'''Q20'''"
   ]
  },
  {
   "cell_type": "code",
   "execution_count": null,
   "id": "fd345d5e-76a6-47d0-b739-3242316fd674",
   "metadata": {},
   "outputs": [],
   "source": [
    "\n",
    "\n",
    "import math\n",
    "\n",
    "\n",
    "\n",
    "# Creating A List\n",
    "\n",
    "Numbers = [4, 16, 17, 11, 36, 82,\n",
    "\n",
    "                            81, 49, 110, 120, 100]\n",
    "\n",
    "\n",
    "\n",
    "# Printing the original array\n",
    "\n",
    "print(\"The original List is : \", Numbers)\n",
    "\n",
    "\n",
    "\n",
    "# Using List comprehension to find perfect squares\n",
    "\n",
    "perfect_squares = [i for i in Numbers if (\n",
    "\n",
    "            math.sqrt(i) == math.floor(math.sqrt(i)))]\n",
    "\n",
    "\n",
    "\n",
    "# Printing the perfect squares\n",
    "\n",
    "print(\"The perfect squares are: \", perfect_squares)"
   ]
  },
  {
   "cell_type": "code",
   "execution_count": null,
   "id": "10310acd-b315-4c92-8de0-bcc977f2f74a",
   "metadata": {},
   "outputs": [],
   "source": [
    "'''Q21'''"
   ]
  },
  {
   "cell_type": "code",
   "execution_count": null,
   "id": "0567ef75-fbb4-490b-bd02-b4be9abde98e",
   "metadata": {},
   "outputs": [],
   "source": []
  },
  {
   "cell_type": "code",
   "execution_count": null,
   "id": "dedc10b0-b73d-4b89-9509-63088428d369",
   "metadata": {},
   "outputs": [],
   "source": [
    "'''Q22'''"
   ]
  },
  {
   "cell_type": "code",
   "execution_count": null,
   "id": "3ebc6a1a-2bef-4276-bed6-ab40809046f3",
   "metadata": {},
   "outputs": [],
   "source": []
  },
  {
   "cell_type": "code",
   "execution_count": null,
   "id": "9a2cd25f-561e-4775-ab46-18bbeb285197",
   "metadata": {},
   "outputs": [],
   "source": [
    "'''Q23'''"
   ]
  },
  {
   "cell_type": "code",
   "execution_count": null,
   "id": "19bf544f-64f3-4874-b185-f432fed3b4fd",
   "metadata": {},
   "outputs": [],
   "source": [
    "\n",
    "\n",
    "# function that filters vowels\n",
    "\n",
    "def fun(variable):\n",
    "\n",
    "            letters = ['a', 'e', 'i', 'o', 'u']\n",
    "\n",
    "            if (variable in letters):\n",
    "\n",
    "                            return True\n",
    "\n",
    "            else:\n",
    "\n",
    "                            return False\n",
    "\n",
    "\n",
    "\n",
    "\n",
    "\n",
    "# sequence\n",
    "\n",
    "sequence = ['g', 'e', 'e', 'j', 'k', 's', 'p', 'r']\n",
    "\n",
    "\n",
    "\n",
    "# using filter function\n",
    "\n",
    "filtered = filter(fun, sequence)\n",
    "\n",
    "\n",
    "\n",
    "print('The filtered letters are:')\n",
    "\n",
    "for s in filtered:\n",
    "\n",
    "            print(s)"
   ]
  },
  {
   "cell_type": "code",
   "execution_count": null,
   "id": "54d4a7dc-fb10-4fc3-bbda-b02fa009de13",
   "metadata": {},
   "outputs": [],
   "source": [
    "'''Q24'''"
   ]
  },
  {
   "cell_type": "code",
   "execution_count": null,
   "id": "81d377e2-52ee-460c-a241-adf2b840dcaf",
   "metadata": {},
   "outputs": [],
   "source": []
  },
  {
   "cell_type": "code",
   "execution_count": null,
   "id": "29277c99-5d03-49fd-a59e-e47bfd961c70",
   "metadata": {},
   "outputs": [],
   "source": []
  },
  {
   "cell_type": "code",
   "execution_count": null,
   "id": "a38337e0-11e8-4a6f-97e6-014aed42b0b2",
   "metadata": {},
   "outputs": [],
   "source": []
  },
  {
   "cell_type": "code",
   "execution_count": null,
   "id": "1fccd411-1f86-4ef1-b69a-643f6e22767c",
   "metadata": {},
   "outputs": [],
   "source": [
    "'''Q1'''"
   ]
  },
  {
   "cell_type": "code",
   "execution_count": null,
   "id": "f3c217d6-9d48-433f-8914-2eba0267012d",
   "metadata": {},
   "outputs": [],
   "source": [
    "\n",
    "\n",
    "# Python program to demonstrate working\n",
    "\n",
    "# of map.\n",
    "\n",
    "\n",
    "\n",
    "# Return double of n\n",
    "\n",
    "def addition(n):\n",
    "\n",
    "            return n + n\n",
    "\n",
    "\n",
    "\n",
    "# We double all numbers using map()\n",
    "\n",
    "numbers = (1, 2, 3, 4)\n",
    "\n",
    "result = map(addition, numbers)\n",
    "\n",
    "print(list(result))"
   ]
  },
  {
   "cell_type": "code",
   "execution_count": null,
   "id": "37ee158c-85f8-4951-9d85-5ab0dac4b87e",
   "metadata": {},
   "outputs": [],
   "source": [
    "'''Q2'''"
   ]
  },
  {
   "cell_type": "code",
   "execution_count": null,
   "id": "54113065-10cc-4f5a-ba8d-da7def873759",
   "metadata": {},
   "outputs": [],
   "source": [
    "\n",
    "\n",
    "# Python program to demonstrate working\n",
    "\n",
    "# of map.\n",
    "\n",
    "\n",
    "\n",
    "# Return double of n\n",
    "\n",
    "def addition(n):\n",
    "\n",
    "            return n*n\n",
    "\n",
    "\n",
    "\n",
    "# We double all numbers using map()\n",
    "\n",
    "numbers = (1, 2, 3, 4)\n",
    "\n",
    "result = map(addition, numbers)\n",
    "\n",
    "print(list(result))"
   ]
  },
  {
   "cell_type": "code",
   "execution_count": null,
   "id": "c573a1be-6cca-4cbc-a235-7e5f8501ae49",
   "metadata": {},
   "outputs": [],
   "source": [
    "'''Q3'''"
   ]
  },
  {
   "cell_type": "code",
   "execution_count": null,
   "id": "fb4564fe-8d48-4c43-bc62-d0f13a9634ed",
   "metadata": {},
   "outputs": [],
   "source": []
  },
  {
   "cell_type": "code",
   "execution_count": null,
   "id": "5926bce7-305f-4fbb-8062-750d62d87931",
   "metadata": {},
   "outputs": [],
   "source": [
    "'''Q4'''"
   ]
  },
  {
   "cell_type": "code",
   "execution_count": null,
   "id": "bdd99170-812d-430d-876c-685dee6eea30",
   "metadata": {},
   "outputs": [],
   "source": [
    "\n",
    "\n",
    "def to_upper_case(s):\n",
    "\n",
    "    return s.upper()\n",
    "\n",
    "\n",
    "\n",
    "l = ['hello', 'please', 'convert', 'me', 'to', 'uppercase']\n",
    "\n",
    "result = list(map(to_upper_case,l))\n",
    "\n",
    "print(result)"
   ]
  },
  {
   "cell_type": "code",
   "execution_count": null,
   "id": "9dbec5c5-bcc9-48eb-a1b3-8fdc1791d348",
   "metadata": {},
   "outputs": [],
   "source": [
    "'''Q5'''"
   ]
  },
  {
   "cell_type": "code",
   "execution_count": null,
   "id": "b7863fb9-af19-4ae8-9498-329959921c96",
   "metadata": {},
   "outputs": [],
   "source": [
    " \n",
    "\n",
    "\n",
    "\n",
    "def to_upper_case(s):\n",
    "\n",
    "    return len(s)\n",
    "\n",
    "\n",
    "\n",
    "l = ['hello', 'please', 'convert', 'me', 'to', 'uppercase']\n",
    "\n",
    "result = list(map(to_upper_case,l))\n",
    "\n",
    "print(result)"
   ]
  },
  {
   "cell_type": "code",
   "execution_count": null,
   "id": "549335c8-117a-4680-a0c9-5d2894bebbd0",
   "metadata": {},
   "outputs": [],
   "source": [
    "'''Q6'''"
   ]
  },
  {
   "cell_type": "code",
   "execution_count": null,
   "id": "ba1de10f-fc1d-40e7-85e0-5cff22768a8b",
   "metadata": {},
   "outputs": [],
   "source": [
    "\n",
    "\n",
    "# Python program to demonstrate\n",
    "\n",
    "# passing of multiple iterable arguments to map()\n",
    "\n",
    "# using 2 lists\n",
    "\n",
    "\n",
    "\n",
    "# Function which return sum of 2 numbers\n",
    "\n",
    "def sum(a,b):\n",
    "\n",
    "            return a+b\n",
    "\n",
    "\n",
    "\n",
    "# list 1\n",
    "\n",
    "lst1=[2,4,6,8]\n",
    "\n",
    "\n",
    "\n",
    "# list 2\n",
    "\n",
    "lst2=[1,3,5,7,9]\n",
    "\n",
    "\n",
    "\n",
    "\n",
    "\n",
    "result=list(map(sum,lst1,lst2))\n",
    "\n",
    "print(result)\n",
    "\n"
   ]
  },
  {
   "cell_type": "code",
   "execution_count": null,
   "id": "796235e9-8405-41df-9363-ae819d8e6034",
   "metadata": {},
   "outputs": [],
   "source": [
    "'''Q7'''"
   ]
  },
  {
   "cell_type": "code",
   "execution_count": null,
   "id": "d011a971-3fdf-47f6-931a-e9c2c38b8e4e",
   "metadata": {},
   "outputs": [],
   "source": [
    "\n",
    "\n",
    "def converter_to_fahrenheit(c):\n",
    "\n",
    "    return (c * 1.8) + 32\n",
    "\n",
    "\n",
    "\n",
    "l = [32,37892,63,7382,8237]\n",
    "\n",
    "result = list(map(converter_to_fahrenheit,l))\n",
    "\n",
    "print(result)"
   ]
  },
  {
   "cell_type": "code",
   "execution_count": null,
   "id": "b1cfd269-4a66-4f72-b80b-67515e62f99d",
   "metadata": {},
   "outputs": [],
   "source": [
    "'''Q8'''"
   ]
  },
  {
   "cell_type": "code",
   "execution_count": null,
   "id": "75211cf0-20e8-4c55-9aef-5c77c8c15848",
   "metadata": {},
   "outputs": [],
   "source": [
    "\n",
    "\n",
    "def round_to_floor(ele):\n",
    "\n",
    "    if abs(math.floor(ele)-ele) < abs(math.ceil(ele)-ele):\n",
    "\n",
    "        return math.floor(ele)\n",
    "\n",
    "\n",
    "\n",
    "    return math.ceil(ele)\n",
    "\n",
    "\n",
    "\n",
    "l = [12.8, .178, 1.8, 782.7, 99.8, 8.7]\n",
    "\n",
    "result = list(map(round_to_floor,l))\n",
    "\n",
    "print(result)"
   ]
  },
  {
   "cell_type": "code",
   "execution_count": null,
   "id": "8fd8d5d3-24bf-494d-ab7f-21f0900b004e",
   "metadata": {},
   "outputs": [],
   "source": []
  },
  {
   "cell_type": "code",
   "execution_count": null,
   "id": "7d8fd663-abba-42c1-9758-1fb64ae06cd9",
   "metadata": {},
   "outputs": [],
   "source": []
  },
  {
   "cell_type": "code",
   "execution_count": null,
   "id": "cb0684a0-207f-4296-a752-b6c1601b4d83",
   "metadata": {},
   "outputs": [],
   "source": []
  },
  {
   "cell_type": "code",
   "execution_count": null,
   "id": "eae26ab1-7c2d-404d-934a-35360e78ba39",
   "metadata": {},
   "outputs": [],
   "source": [
    "'''Q1'''"
   ]
  },
  {
   "cell_type": "code",
   "execution_count": null,
   "id": "0af8f093-fed7-412b-9809-48760abde6df",
   "metadata": {},
   "outputs": [],
   "source": [
    "import functools,operator"
   ]
  },
  {
   "cell_type": "code",
   "execution_count": null,
   "id": "dc744017-4277-459b-805d-c9028561dc07",
   "metadata": {},
   "outputs": [],
   "source": [
    "'''Q2'''"
   ]
  },
  {
   "cell_type": "code",
   "execution_count": null,
   "id": "3b744735-ee7f-4965-a248-2090f7319f55",
   "metadata": {},
   "outputs": [],
   "source": [
    "\n",
    "\n",
    "def do_prod(a,b):\n",
    "\n",
    "    return a*b\n",
    "\n",
    "\n",
    "\n",
    "l = [1,2,3,4,5,6,7,8,9]\n",
    "\n",
    "# l = [1,2,3]\n",
    "\n",
    "result = functools.reduce(do_prod, l)\n",
    "\n",
    "\n",
    "\n",
    "print(result)"
   ]
  },
  {
   "cell_type": "code",
   "execution_count": null,
   "id": "6c14f6f9-bec5-44d0-b918-d671d255a147",
   "metadata": {},
   "outputs": [],
   "source": [
    "'''Q3'''"
   ]
  },
  {
   "cell_type": "code",
   "execution_count": null,
   "id": "f7273b1c-d456-434e-a2d4-617b4b1fa9af",
   "metadata": {},
   "outputs": [],
   "source": [
    "\n",
    "\n",
    "def find_max(a,b):\n",
    "\n",
    "    if a > b:\n",
    "\n",
    "        return a\n",
    "\n",
    "\n",
    "\n",
    "    return b\n",
    "\n",
    "\n",
    "\n",
    "\n",
    "\n",
    "l = [1,2,3,4,5,6,7,8,9]\n",
    "\n",
    "result = functools.reduce(find_max,l)\n",
    "\n",
    "print(result)"
   ]
  },
  {
   "cell_type": "code",
   "execution_count": null,
   "id": "492c89c2-edb0-4b37-85f8-6762e576d966",
   "metadata": {},
   "outputs": [],
   "source": [
    "'''Q4'''"
   ]
  },
  {
   "cell_type": "code",
   "execution_count": null,
   "id": "4f7d6c24-9c71-4895-803e-508492ab5b1b",
   "metadata": {},
   "outputs": [],
   "source": [
    "\n",
    "\n",
    "def string_concatenater(a,b):\n",
    "\n",
    "    return a+ \"-\" +b\n",
    "\n",
    "\n",
    "\n",
    "l = [\"Hello\",\"This\",\"Is\",\"MyString\", \"Please\",\"Concatenate\",\"It\"]\n",
    "\n",
    "result = functools.reduce(string_concatenater,l)\n",
    "\n",
    "print(result)"
   ]
  },
  {
   "cell_type": "code",
   "execution_count": null,
   "id": "e31c3153-51e1-4b0f-8044-377559164aee",
   "metadata": {},
   "outputs": [],
   "source": [
    "'''Q5'''"
   ]
  },
  {
   "cell_type": "code",
   "execution_count": null,
   "id": "dd17dac0-8245-4a88-b4ca-a7ebc1b7d154",
   "metadata": {},
   "outputs": [],
   "source": [
    " \n",
    "\n",
    "print(functools.reduce(operator.mul, range(1, 6)))"
   ]
  },
  {
   "cell_type": "code",
   "execution_count": null,
   "id": "16e7c748-aab2-4423-b182-10bc30429141",
   "metadata": {},
   "outputs": [],
   "source": [
    "'''Q6'''"
   ]
  },
  {
   "cell_type": "code",
   "execution_count": null,
   "id": "6da3b7b1-37ac-411f-a9d0-bb6f28eb0088",
   "metadata": {},
   "outputs": [],
   "source": [
    " \n",
    "\n",
    "from fractions import gcd\n",
    "\n",
    "from functools import reduce\n",
    "\n",
    "\n",
    "\n",
    "l = [4,12]\n",
    "\n",
    "\n",
    "\n",
    "x = reduce(gcd, l)\n",
    "\n",
    "print(x)"
   ]
  },
  {
   "cell_type": "code",
   "execution_count": null,
   "id": "d19cb4d2-b596-4a0a-9ec4-d6ae50b34d79",
   "metadata": {},
   "outputs": [],
   "source": [
    "'''Q7'''"
   ]
  },
  {
   "cell_type": "code",
   "execution_count": null,
   "id": "645a1104-1d01-4682-8890-16613d28ddef",
   "metadata": {},
   "outputs": [],
   "source": []
  },
  {
   "cell_type": "code",
   "execution_count": null,
   "id": "8f03c327-bab4-4939-afab-6b7e83b16dbe",
   "metadata": {},
   "outputs": [],
   "source": []
  },
  {
   "cell_type": "code",
   "execution_count": null,
   "id": "a24fb237-b989-42c5-b8a8-fe13d344ea75",
   "metadata": {},
   "outputs": [],
   "source": []
  },
  {
   "cell_type": "code",
   "execution_count": null,
   "id": "e8f7e011-6187-4c54-8136-6be49fe9a006",
   "metadata": {},
   "outputs": [],
   "source": [
    "'''Q1'''"
   ]
  },
  {
   "cell_type": "code",
   "execution_count": null,
   "id": "110f382e-b589-45cd-9900-692090d0ba16",
   "metadata": {},
   "outputs": [],
   "source": [
    "# function that filters vowels\n",
    "\n",
    "def fun(variable):\n",
    "\n",
    "            letters = ['a', 'e', 'i', 'o', 'u']\n",
    "\n",
    "            if (variable in letters):\n",
    "\n",
    "                            return True\n",
    "\n",
    "            else:\n",
    "\n",
    "                            return False\n",
    "\n",
    "\n",
    "\n",
    "\n",
    "\n",
    "# sequence\n",
    "\n",
    "sequence = ['g', 'e', 'e', 'j', 'k', 's', 'p', 'r']\n",
    "\n",
    "\n",
    "\n",
    "# using filter function\n",
    "\n",
    "filtered = filter(fun, sequence)\n",
    "\n",
    "\n",
    "\n",
    "print('The filtered letters are:')\n",
    "\n",
    "for s in filtered:\n",
    "\n",
    "            print(s)"
   ]
  },
  {
   "cell_type": "code",
   "execution_count": null,
   "id": "e5e8548d-fab6-4681-b4c1-8d9449b17e1e",
   "metadata": {},
   "outputs": [],
   "source": [
    "'''Q2'''"
   ]
  },
  {
   "cell_type": "code",
   "execution_count": null,
   "id": "e0be739e-e75d-42f2-bb93-0a375b734d16",
   "metadata": {},
   "outputs": [],
   "source": [
    "def filter_even(ele):\n",
    "\n",
    "    if ele % 2 == 0:\n",
    "\n",
    "        return True\n",
    "\n",
    "\n",
    "\n",
    "    return False\n",
    "\n",
    "\n",
    "\n",
    "l = [1,2,3,4,5,6,7,8,9]\n",
    "\n",
    "new_list = list(filter(filter_even,l))\n",
    "\n",
    "print(new_list)"
   ]
  },
  {
   "cell_type": "code",
   "execution_count": null,
   "id": "e2663602-686d-4b34-8e43-7d8cbe896ab7",
   "metadata": {},
   "outputs": [],
   "source": [
    "'''Q3'''"
   ]
  },
  {
   "cell_type": "code",
   "execution_count": null,
   "id": "ae3fcab4-90ef-4171-a10e-5a3331ced2fe",
   "metadata": {},
   "outputs": [],
   "source": [
    "\n",
    "\n",
    "def filter_names(name):\n",
    "\n",
    "    if name[0].lower() in ('a','e','i','o','u'):\n",
    "\n",
    "        return True\n",
    "\n",
    "\n",
    "\n",
    "    return False\n",
    "\n",
    "\n",
    "\n",
    "l = ['Anita', 'Babita', 'Chachi 420', 'Deepali', 'Ekansh', 'Ishika', 'Owl', 'Upanshu']\n",
    "\n",
    "new_list = list(filter(filter_names,l))\n",
    "\n",
    "print(new_list)"
   ]
  },
  {
   "cell_type": "code",
   "execution_count": null,
   "id": "47fa3289-d170-499e-9c03-1fc7220489ea",
   "metadata": {},
   "outputs": [],
   "source": [
    "'''Q4'''"
   ]
  },
  {
   "cell_type": "code",
   "execution_count": null,
   "id": "c4fbcb8c-a48c-4664-99a5-f50d4304720f",
   "metadata": {},
   "outputs": [],
   "source": [
    "\n",
    "\n",
    "def is_prime(num):\n",
    "\n",
    "\n",
    "\n",
    "    # If given number is greater than 1\n",
    "\n",
    "    if num > 1:\n",
    "\n",
    "        # Iterate from 2 to n / 2\n",
    "\n",
    "        for i in range(2, int(num / 2) + 1):\n",
    "\n",
    "            # If num is divisible by any number between\n",
    "\n",
    "            # 2 and n / 2, it is not prime\n",
    "\n",
    "            if (num % i) == 0:\n",
    "\n",
    "                return False\n",
    "\n",
    "                break\n",
    "\n",
    "        else:\n",
    "\n",
    "            return True\n",
    "\n",
    "    else:\n",
    "\n",
    "        return False\n",
    "\n",
    "\n",
    "\n",
    "\n",
    "\n",
    "def filter_prime(num):\n",
    "\n",
    "\n",
    "\n",
    "    if is_prime(num):\n",
    "\n",
    "        return True\n",
    "\n",
    "\n",
    "\n",
    "    return False\n",
    "\n",
    "\n",
    "\n",
    "\n",
    "\n",
    "l = [1,2,3,4,5,6,7,8,9]\n",
    "\n",
    "new_list = list(filter(filter_prime,l))\n",
    "\n",
    "print(new_list)\n",
    "\n",
    " "
   ]
  },
  {
   "cell_type": "code",
   "execution_count": null,
   "id": "9de2950e-6052-4a68-a47c-6962a6b576cc",
   "metadata": {},
   "outputs": [],
   "source": [
    "'''Q5'''"
   ]
  },
  {
   "cell_type": "code",
   "execution_count": null,
   "id": "0ffcc84b-1b26-4cf1-bf4b-e7be6fd2e727",
   "metadata": {},
   "outputs": [],
   "source": [
    "\n",
    "\n",
    "def filter_none(val):\n",
    "\n",
    "    if val is not None:\n",
    "\n",
    "        return True\n",
    "\n",
    "\n",
    "\n",
    "    return False\n",
    "\n",
    "\n",
    "\n",
    "\n",
    "\n",
    "l = [1,None,2,None, 3, None, 4, None, 5, None]\n",
    "\n",
    "new_list = list(filter(filter_none,l))\n",
    "\n",
    "print(new_list)"
   ]
  },
  {
   "cell_type": "code",
   "execution_count": null,
   "id": "8f624ae0-2479-4b23-867b-5592a13888b3",
   "metadata": {},
   "outputs": [],
   "source": [
    "'''Q6'''"
   ]
  },
  {
   "cell_type": "code",
   "execution_count": null,
   "id": "d64e5dd3-63e6-4757-a9b1-6b147afa2730",
   "metadata": {},
   "outputs": [],
   "source": [
    "\n",
    "\n",
    "def filter_by_length(name):\n",
    "\n",
    "\n",
    "\n",
    "    if len(name) > 6:\n",
    "\n",
    "        return True\n",
    "\n",
    "\n",
    "\n",
    "    return False\n",
    "\n",
    "\n",
    "\n",
    "\n",
    "\n",
    "l = ['Anita', 'Babita', 'Chachi 420', 'Deepali', 'Ekansh', 'Ishika', 'Owl', 'Upanshu']\n",
    "\n",
    "new_list = list(filter(filter_by_length,l))\n",
    "\n",
    "print(new_list)"
   ]
  },
  {
   "cell_type": "code",
   "execution_count": null,
   "id": "22777b77-7ec3-4563-8a53-eebcf7be56f1",
   "metadata": {},
   "outputs": [],
   "source": [
    "'''Q7'''"
   ]
  },
  {
   "cell_type": "code",
   "execution_count": null,
   "id": "da91a1b3-aaae-48fd-bdb6-fbf8a558552d",
   "metadata": {},
   "outputs": [],
   "source": [
    "\n",
    "\n",
    "def filter_for_greater_value(num):\n",
    "\n",
    "\n",
    "\n",
    "    if num > 50:\n",
    "\n",
    "        return True\n",
    "\n",
    "\n",
    "\n",
    "    return False\n",
    "\n",
    "\n",
    "\n",
    "\n",
    "\n",
    "l = [10,20,30,40,50,60,70,80,90]\n",
    "\n",
    "new_list = list(filter(filter_for_greater_value,l))\n",
    "\n",
    "print(new_list)"
   ]
  },
  {
   "cell_type": "code",
   "execution_count": null,
   "id": "430780c5-4575-4e59-bbd9-0058b5da281e",
   "metadata": {},
   "outputs": [],
   "source": []
  },
  {
   "cell_type": "code",
   "execution_count": null,
   "id": "66e64ae8-98bf-4b4f-9898-30dcf6e6b6f7",
   "metadata": {},
   "outputs": [],
   "source": []
  },
  {
   "cell_type": "code",
   "execution_count": null,
   "id": "ecb00210-311b-4dcf-961b-7652ddd21ff8",
   "metadata": {},
   "outputs": [],
   "source": []
  },
  {
   "cell_type": "code",
   "execution_count": null,
   "id": "ac4ab422-e4f4-4a29-a5de-4c6dc588d418",
   "metadata": {},
   "outputs": [],
   "source": [
    "'''Q1'''"
   ]
  },
  {
   "cell_type": "code",
   "execution_count": null,
   "id": "a570faf7-66e6-4779-a438-6fac59f5de58",
   "metadata": {},
   "outputs": [],
   "source": []
  },
  {
   "cell_type": "code",
   "execution_count": null,
   "id": "8c646494-4232-4cef-9200-cf2699517e65",
   "metadata": {},
   "outputs": [],
   "source": [
    "'''Q2'''"
   ]
  },
  {
   "cell_type": "code",
   "execution_count": null,
   "id": "76fcc86a-d404-4b8e-9623-eb5d45478253",
   "metadata": {},
   "outputs": [],
   "source": [
    "\n",
    "\n",
    "\n",
    "\n",
    "# Python 3 program to find\n",
    "\n",
    "# factorial of given number\n",
    "\n",
    "def factorial(n):\n",
    "\n",
    "    # Checking the number\n",
    "\n",
    "    # is 1 or 0 then\n",
    "\n",
    "    # return 1\n",
    "\n",
    "    # other wise return\n",
    "\n",
    "    # factorial\n",
    "\n",
    "    if (n == 1 or n == 0):\n",
    "\n",
    "\n",
    "\n",
    "        return 1\n",
    "\n",
    "\n",
    "\n",
    "    else:\n",
    "\n",
    "\n",
    "\n",
    "        return (n * factorial(n - 1))\n",
    "\n",
    "\n",
    "\n",
    "    # Driver Code\n",
    "\n",
    "\n",
    "\n",
    "\n",
    "\n",
    "num = 5;\n",
    "\n",
    "print(\"number : \", num)\n",
    "\n",
    "print(\"Factorial : \", factorial(num))"
   ]
  },
  {
   "cell_type": "code",
   "execution_count": null,
   "id": "7ff7709d-17b9-4708-b6ba-1dad8c9c3b56",
   "metadata": {},
   "outputs": [],
   "source": [
    "'''Q3'''"
   ]
  },
  {
   "cell_type": "code",
   "execution_count": null,
   "id": "7d671e25-379f-4e9e-b82c-a919fdd0231a",
   "metadata": {},
   "outputs": [],
   "source": [
    "\n",
    "\n",
    "# Python program to display the Fibonacci sequence\n",
    "\n",
    "\n",
    "\n",
    "def recur_fibo(n):\n",
    "\n",
    "   if n <= 1:\n",
    "\n",
    "       return n\n",
    "\n",
    "   else:\n",
    "\n",
    "       return(recur_fibo(n-1) + recur_fibo(n-2))\n",
    "\n",
    "\n",
    "\n",
    "nterms = 10\n",
    "\n",
    "\n",
    "\n",
    "# check if the number of terms is valid\n",
    "\n",
    "if nterms <= 0:\n",
    "\n",
    "   print(\"Plese enter a positive integer\")\n",
    "\n",
    "else:\n",
    "\n",
    "   print(\"Fibonacci sequence:\")\n",
    "\n",
    "   for i in range(nterms):\n",
    "\n",
    "       print(recur_fibo(i), end=\"  \")"
   ]
  },
  {
   "cell_type": "code",
   "execution_count": null,
   "id": "c8ef726c-3b8c-47b1-9100-ebbcf19efbac",
   "metadata": {},
   "outputs": [],
   "source": [
    "'''Q4'''"
   ]
  },
  {
   "cell_type": "code",
   "execution_count": null,
   "id": "eb315162-f178-4df1-bc57-83f123cc481b",
   "metadata": {},
   "outputs": [],
   "source": [
    "\n",
    "\n",
    "def getSum(piece):\n",
    "\n",
    "    if len(piece)==0:\n",
    "\n",
    "        return 0\n",
    "\n",
    "    else:\n",
    "\n",
    "        return piece[0] + getSum(piece[1:])\n",
    "\n",
    "\n",
    "\n",
    "\n",
    "\n",
    "print(getSum([1, 3, 4, 2, 5]))"
   ]
  },
  {
   "cell_type": "code",
   "execution_count": null,
   "id": "73a21cd3-578a-4704-b419-eb368e941b19",
   "metadata": {},
   "outputs": [],
   "source": [
    "'''Q5'''"
   ]
  },
  {
   "cell_type": "code",
   "execution_count": null,
   "id": "31b7c2cd-2cbd-4985-895f-11deafa8e2d5",
   "metadata": {},
   "outputs": [],
   "source": []
  },
  {
   "cell_type": "code",
   "execution_count": null,
   "id": "184f9362-fbd0-4528-8e91-4f2f09ee356d",
   "metadata": {},
   "outputs": [],
   "source": [
    "'''Q6'''"
   ]
  },
  {
   "cell_type": "code",
   "execution_count": null,
   "id": "f78042c1-3191-4d3b-9bc7-ec2b0a482ee0",
   "metadata": {},
   "outputs": [],
   "source": [
    "\n",
    "\n",
    "def gcd(a,b):\n",
    "\n",
    "    if(b==0):\n",
    "\n",
    "        return a\n",
    "\n",
    "    else:\n",
    "\n",
    "        return gcd(b,a%b)\n",
    "\n",
    "a=int(input(\"Enter first number:\"))\n",
    "\n",
    "b=int(input(\"Enter second number:\"))\n",
    "\n",
    "GCD=gcd(a,b)\n",
    "\n",
    "print(\"GCD is: \")\n",
    "\n",
    "print(GCD)"
   ]
  },
  {
   "cell_type": "code",
   "execution_count": null,
   "id": "0f0924b4-a99d-4467-b512-7feb64cfe416",
   "metadata": {},
   "outputs": [],
   "source": [
    "'''Q7'''"
   ]
  },
  {
   "cell_type": "code",
   "execution_count": null,
   "id": "2bcddb67-2ae7-49d0-a461-03edbdcfb238",
   "metadata": {},
   "outputs": [],
   "source": [
    "\n",
    "\n",
    "def reverse(s):\n",
    "\n",
    "            if len(s) == 0:\n",
    "\n",
    "                            return s\n",
    "\n",
    "            else:\n",
    "\n",
    "                            return reverse(s[1:]) + s[0]\n",
    "\n",
    "\n",
    "\n",
    "\n",
    "\n",
    "s = \"Geeksforgeeks\"\n",
    "\n",
    "\n",
    "\n",
    "print(\"The original string is : \", end=\"\")\n",
    "\n",
    "print(s)\n",
    "\n",
    "\n",
    "\n",
    "print(\"The reversed string(using recursion) is : \", end=\"\")\n",
    "\n",
    "print(reverse(s))"
   ]
  },
  {
   "cell_type": "code",
   "execution_count": null,
   "id": "d49efd8b-767f-4e2c-827b-995403c8b522",
   "metadata": {},
   "outputs": [],
   "source": [
    "'''Q8'''"
   ]
  },
  {
   "cell_type": "code",
   "execution_count": null,
   "id": "c469c11c-3cd8-4bda-8383-fd3db3136d77",
   "metadata": {},
   "outputs": [],
   "source": [
    "\n",
    "\n",
    "# Python3 code to recursively find\n",
    "\n",
    "# the power of a number\n",
    "\n",
    "\n",
    "\n",
    "# Recursive function to find N^P.\n",
    "\n",
    "def power(N, P):\n",
    "\n",
    "\n",
    "\n",
    "            # If power is 0 then return 1\n",
    "\n",
    "            # if condition is true\n",
    "\n",
    "            # only then it will enter it,\n",
    "\n",
    "            # otherwise not\n",
    "\n",
    "            if P == 0:\n",
    "\n",
    "                            return 1\n",
    "\n",
    "\n",
    "\n",
    "            # Recurrence relation\n",
    "\n",
    "            return (N*power(N, P-1))\n",
    "\n",
    "\n",
    "\n",
    "\n",
    "\n",
    "# Driver code\n",
    "\n",
    "N = 5\n",
    "\n",
    "P = 2\n",
    "\n",
    "print(power(N, P))"
   ]
  },
  {
   "cell_type": "code",
   "execution_count": null,
   "id": "507cb9b8-4ace-4898-a891-e0353d785f26",
   "metadata": {},
   "outputs": [],
   "source": [
    "'''Q9'''"
   ]
  },
  {
   "cell_type": "code",
   "execution_count": null,
   "id": "9d7d3ff9-5d47-44d8-b1df-9fbc5e4c86b2",
   "metadata": {},
   "outputs": [],
   "source": [
    "\n",
    "\n",
    "# Python code to demonstrate\n",
    "\n",
    "# to find all permutation of\n",
    "\n",
    "# a given string\n",
    "\n",
    "\n",
    "\n",
    "# Initialising string\n",
    "\n",
    "ini_str = \"abc\"\n",
    "\n",
    "\n",
    "\n",
    "# Printing initial string\n",
    "\n",
    "print(\"Initial string\", ini_str)\n",
    "\n",
    "\n",
    "\n",
    "# Finding all permutation\n",
    "\n",
    "result = []\n",
    "\n",
    "\n",
    "\n",
    "def permute(data, i, length):\n",
    "\n",
    "            if i == length:\n",
    "\n",
    "                            result.append(''.join(data) )\n",
    "\n",
    "            else:\n",
    "\n",
    "                            for j in range(i, length):\n",
    "\n",
    "                                            # swap\n",
    "\n",
    "                                            data[i], data[j] = data[j], data[i]\n",
    "\n",
    "                                            permute(data, i + 1, length)\n",
    "\n",
    "                                            data[i], data[j] = data[j], data[i]\n",
    "\n",
    "permute(list(ini_str), 0, len(ini_str))\n",
    "\n",
    "\n",
    "\n",
    "# Printing result\n",
    "\n",
    "print(\"Resultant permutations\", str(result))\n",
    "\n",
    " "
   ]
  },
  {
   "cell_type": "code",
   "execution_count": null,
   "id": "3870777f-c807-4744-b875-141f3e2f14dd",
   "metadata": {},
   "outputs": [],
   "source": [
    "'''Q10'''"
   ]
  },
  {
   "cell_type": "code",
   "execution_count": null,
   "id": "04bc9d71-a655-471b-8013-e095c878d1a6",
   "metadata": {},
   "outputs": [],
   "source": [
    "\n",
    "\n",
    "# Recursive function to check if a\n",
    "\n",
    "# string is palindrome\n",
    "\n",
    "def isPalindrome(s):\n",
    "\n",
    "\n",
    "\n",
    "            # to change it the string is similar case\n",
    "\n",
    "            s = s.lower()\n",
    "\n",
    "            # length of s\n",
    "\n",
    "            l = len(s)\n",
    "\n",
    "\n",
    "\n",
    "            # if length is less than 2\n",
    "\n",
    "            if l < 2:\n",
    "\n",
    "                            return True\n",
    "\n",
    "\n",
    "\n",
    "            # If s[0] and s[l-1] are equal\n",
    "\n",
    "            elif s[0] == s[l - 1]:\n",
    "\n",
    "\n",
    "\n",
    "                            # Call is palindrome form substring(1,l-1)\n",
    "\n",
    "                            return isPalindrome(s[1: l - 1])\n",
    "\n",
    "\n",
    "\n",
    "            else:\n",
    "\n",
    "                            return False\n",
    "\n",
    "\n",
    "\n",
    "# Driver Code\n",
    "\n",
    "s = \"MalaYaLam\"\n",
    "\n",
    "ans = isPalindrome(s)\n",
    "\n",
    "\n",
    "\n",
    "if ans:\n",
    "\n",
    "            print(\"Yes\")\n",
    "\n",
    "\n",
    "\n",
    "else:\n",
    "\n",
    "            print(\"No\")\n",
    "\n",
    " "
   ]
  },
  {
   "cell_type": "code",
   "execution_count": null,
   "id": "78b5189f-fa4f-4b9e-abba-5f7e57c70b50",
   "metadata": {},
   "outputs": [],
   "source": [
    "'''Q11'''"
   ]
  },
  {
   "cell_type": "code",
   "execution_count": null,
   "id": "3a3159f3-ddec-4762-8efc-16b27d71ff7b",
   "metadata": {},
   "outputs": [],
   "source": [
    "\n",
    "\n",
    "def combinations(l):\n",
    "\n",
    "    if l:\n",
    "\n",
    "      result = combinations(l[:-1])\n",
    "\n",
    "      return result + [c + [l[-1]] for c in result]\n",
    "\n",
    "    else:\n",
    "\n",
    "      return [[]]\n",
    "\n",
    "\n",
    "\n",
    "print(combinations([1,2,3]))"
   ]
  },
  {
   "cell_type": "code",
   "execution_count": null,
   "id": "307ed9f0-9fa8-4938-b1bc-f2e624e016d2",
   "metadata": {},
   "outputs": [],
   "source": []
  },
  {
   "cell_type": "code",
   "execution_count": null,
   "id": "dae307e1-20ae-409c-abea-a5b3915e7a9e",
   "metadata": {},
   "outputs": [],
   "source": []
  },
  {
   "cell_type": "code",
   "execution_count": null,
   "id": "8e31db06-a176-4e70-9d00-2a4b54f8a5ce",
   "metadata": {},
   "outputs": [],
   "source": []
  },
  {
   "cell_type": "code",
   "execution_count": null,
   "id": "02a01849-a8b5-4689-8131-6dd01142e01d",
   "metadata": {},
   "outputs": [],
   "source": [
    "'''Q1'''"
   ]
  },
  {
   "cell_type": "code",
   "execution_count": null,
   "id": "ab5863ba-4306-40b4-8554-afc3c8a55127",
   "metadata": {},
   "outputs": [],
   "source": []
  },
  {
   "cell_type": "code",
   "execution_count": null,
   "id": "f219c965-b220-4225-9be5-76f125ade27b",
   "metadata": {},
   "outputs": [],
   "source": [
    "'''Q2'''"
   ]
  },
  {
   "cell_type": "code",
   "execution_count": null,
   "id": "4aa2c751-d5b2-41ef-a153-87d939760292",
   "metadata": {},
   "outputs": [],
   "source": []
  },
  {
   "cell_type": "code",
   "execution_count": null,
   "id": "e3718c97-33c9-41ed-ab0b-5ba92ad6e991",
   "metadata": {},
   "outputs": [],
   "source": []
  },
  {
   "cell_type": "code",
   "execution_count": null,
   "id": "e178c06c-cc3c-486e-83fb-1afce0efb020",
   "metadata": {},
   "outputs": [],
   "source": []
  }
 ],
 "metadata": {
  "kernelspec": {
   "display_name": "Python 3 (ipykernel)",
   "language": "python",
   "name": "python3"
  },
  "language_info": {
   "codemirror_mode": {
    "name": "ipython",
    "version": 3
   },
   "file_extension": ".py",
   "mimetype": "text/x-python",
   "name": "python",
   "nbconvert_exporter": "python",
   "pygments_lexer": "ipython3",
   "version": "3.11.4"
  }
 },
 "nbformat": 4,
 "nbformat_minor": 5
}
